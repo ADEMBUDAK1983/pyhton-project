{
  "nbformat": 4,
  "nbformat_minor": 0,
  "metadata": {
    "colab": {
      "name": "Untitled24.ipynb",
      "provenance": []
    },
    "kernelspec": {
      "name": "python3",
      "display_name": "Python 3"
    },
    "language_info": {
      "name": "python"
    }
  },
  "cells": [
    {
      "cell_type": "code",
      "metadata": {
        "colab": {
          "base_uri": "https://localhost:8080/"
        },
        "id": "LMxhspWp1_WV",
        "outputId": "d54ad6c5-0b44-4d11-d7f8-162cbaea1d9e"
      },
      "source": [
        "age = input(\"Are you a cigarrate addict older than 75 years old?\").strip().lower() == \"yes\"\n",
        "chronic = input(\"Do you have a severe chronic disease?\").strip().lower() == \"yes\"\n",
        "immune = input(\"Is your immune system too weak?\").strip().lower() == \"yes\"\n",
        "print(f\"age: {age}, chronic: {chronic}, immune: {immune}\")\n",
        "if age and chronic and immune:\n",
        "  print(\"You are inrisky group\")\n",
        "else:\n",
        "  print(\"You are not in risky group\")  "
      ],
      "execution_count": 1,
      "outputs": [
        {
          "output_type": "stream",
          "text": [
            "Are you a cigarrate addict older than 75 years old?   yes\n",
            "Do you have a severe chronic disease?    no\n",
            "Is your immune system too weak?YES\n",
            "age: True, chronic: False, immune: True\n",
            "You are not in risky group\n"
          ],
          "name": "stdout"
        }
      ]
    }
  ]
}