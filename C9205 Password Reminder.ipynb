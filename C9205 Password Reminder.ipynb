{
  "nbformat": 4,
  "nbformat_minor": 0,
  "metadata": {
    "colab": {
      "name": "Untitled26.ipynb",
      "provenance": []
    },
    "kernelspec": {
      "name": "python3",
      "display_name": "Python 3"
    },
    "language_info": {
      "name": "python"
    }
  },
  "cells": [
    {
      "cell_type": "code",
      "metadata": {
        "colab": {
          "base_uri": "https://localhost:8080/"
        },
        "id": "MYM60L3sD3IA",
        "outputId": "d55b85de-e904-44ed-c7bb-66b499d734a0"
      },
      "source": [
        "password = (input(\"Please enter your reminder : \")).strip().lower()\n",
        "if password == \"adem\" :\n",
        " print(\"Hello, Adem! The password is : W@12\")\n",
        "else:\n",
        "  print(\"Hello, {} See you later.\".format(password))\n"
      ],
      "execution_count": 8,
      "outputs": [
        {
          "output_type": "stream",
          "text": [
            "Please enter your reminder : adem\n",
            "Hello, Adem! The password is : W@12\n"
          ],
          "name": "stdout"
        }
      ]
    },
    {
      "cell_type": "code",
      "metadata": {
        "id": "oEzKtlbCFO9L"
      },
      "source": [
        ""
      ],
      "execution_count": null,
      "outputs": []
    }
  ]
}